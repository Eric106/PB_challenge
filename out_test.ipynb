{
 "cells": [
  {
   "cell_type": "code",
   "execution_count": 10,
   "metadata": {},
   "outputs": [
    {
     "name": "stdout",
     "output_type": "stream",
     "text": [
      "\u001b[1m============================= test session starts ==============================\u001b[0m\n",
      "platform linux -- Python 3.10.14, pytest-8.2.2, pluggy-1.5.0 -- /home/eric/miniconda3/envs/back_end/bin/python\n",
      "cachedir: .pytest_cache\n",
      "rootdir: /mnt/ssd1/PB_challenge\n",
      "plugins: anyio-4.4.0\n",
      "collected 15 items                                                             \u001b[0m\n",
      "\n",
      "tests/test_01_user.py::test_root \u001b[32mPASSED\u001b[0m\u001b[32m                                  [  6%]\u001b[0m\n",
      "tests/test_01_user.py::test_create_user[masiosare-elextra\\xf1oenemigo] \u001b[32mPASSED\u001b[0m\u001b[32m [ 13%]\u001b[0m\n",
      "tests/test_01_user.py::test_create_user[-] \u001b[32mPASSED\u001b[0m\u001b[32m                        [ 20%]\u001b[0m\n",
      "tests/test_01_user.py::test_create_user[None-None] \u001b[32mPASSED\u001b[0m\u001b[32m                [ 26%]\u001b[0m\n",
      "tests/test_01_user.py::test_login[masiosare-elextra\\xf1oenemigo] \u001b[32mPASSED\u001b[0m\u001b[32m  [ 33%]\u001b[0m\n",
      "tests/test_01_user.py::test_login[masiosare-] \u001b[32mPASSED\u001b[0m\u001b[32m                     [ 40%]\u001b[0m\n",
      "tests/test_01_user.py::test_login[-] \u001b[32mPASSED\u001b[0m\u001b[32m                              [ 46%]\u001b[0m\n",
      "tests/test_01_user.py::test_login[None-None] \u001b[32mPASSED\u001b[0m\u001b[32m                      [ 53%]\u001b[0m\n",
      "tests/test_02_investment.py::test_calc_investment[masiosare-elextra\\xf1oenemigo-data0] \u001b[32mPASSED\u001b[0m\u001b[32m [ 60%]\u001b[0m\n",
      "tests/test_02_investment.py::test_calc_investment[masiosare-elextra\\xf1oenemigo-data1] \u001b[32mPASSED\u001b[0m\u001b[32m [ 66%]\u001b[0m\n",
      "tests/test_02_investment.py::test_calc_investment[masiosare-elextra\\xf1oenemigo-data2] \u001b[32mPASSED\u001b[0m\u001b[32m [ 73%]\u001b[0m\n",
      "tests/test_02_investment.py::test_calc_investment[masiosare-elextra\\xf1oenemigo-data3] \u001b[32mPASSED\u001b[0m\u001b[32m [ 80%]\u001b[0m\n",
      "tests/test_02_investment.py::test_calc_investment[None-None-data4] \u001b[32mPASSED\u001b[0m\u001b[32m [ 86%]\u001b[0m\n",
      "tests/test_03_user.py::test_delete_user[masiosare-elextra\\xf1oenemigo] \u001b[32mPASSED\u001b[0m\u001b[32m [ 93%]\u001b[0m\n",
      "tests/test_03_user.py::test_delete_user[None-None] \u001b[32mPASSED\u001b[0m\u001b[32m                [100%]\u001b[0m\n",
      "\n",
      "\u001b[32m============================== \u001b[32m\u001b[1m15 passed\u001b[0m\u001b[32m in 2.12s\u001b[0m\u001b[32m ==============================\u001b[0m\n"
     ]
    }
   ],
   "source": [
    "! pytest -v"
   ]
  }
 ],
 "metadata": {
  "kernelspec": {
   "display_name": "back_end",
   "language": "python",
   "name": "python3"
  },
  "language_info": {
   "codemirror_mode": {
    "name": "ipython",
    "version": 3
   },
   "file_extension": ".py",
   "mimetype": "text/x-python",
   "name": "python",
   "nbconvert_exporter": "python",
   "pygments_lexer": "ipython3",
   "version": "3.10.14"
  }
 },
 "nbformat": 4,
 "nbformat_minor": 2
}
