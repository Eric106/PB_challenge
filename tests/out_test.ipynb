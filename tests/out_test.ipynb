{
 "cells": [
  {
   "cell_type": "code",
   "execution_count": 36,
   "metadata": {},
   "outputs": [
    {
     "name": "stdout",
     "output_type": "stream",
     "text": [
      "\u001b[1m============================= test session starts ==============================\u001b[0m\n",
      "platform linux -- Python 3.10.14, pytest-8.2.2, pluggy-1.5.0 -- /home/eric/miniconda3/envs/back_end/bin/python\n",
      "cachedir: .pytest_cache\n",
      "rootdir: /mnt/ssd1/PB_challenge/tests\n",
      "plugins: anyio-4.4.0\n",
      "collected 34 items                                                             \u001b[0m\n",
      "\n",
      "test_01_user.py::test_root \u001b[32mPASSED\u001b[0m\u001b[32m                                        [  2%]\u001b[0m\n",
      "test_01_user.py::test_create_user[masiosare-elextra\\xf1oenemigo] \u001b[32mPASSED\u001b[0m\u001b[32m  [  5%]\u001b[0m\n",
      "test_01_user.py::test_create_user[-] \u001b[32mPASSED\u001b[0m\u001b[32m                              [  8%]\u001b[0m\n",
      "test_01_user.py::test_create_user[None-None] \u001b[32mPASSED\u001b[0m\u001b[32m                      [ 11%]\u001b[0m\n",
      "test_01_user.py::test_login[masiosare-elextra\\xf1oenemigo] \u001b[32mPASSED\u001b[0m\u001b[32m        [ 14%]\u001b[0m\n",
      "test_01_user.py::test_login[masiosare-] \u001b[32mPASSED\u001b[0m\u001b[32m                           [ 17%]\u001b[0m\n",
      "test_01_user.py::test_login[-] \u001b[32mPASSED\u001b[0m\u001b[32m                                    [ 20%]\u001b[0m\n",
      "test_01_user.py::test_login[None-None] \u001b[32mPASSED\u001b[0m\u001b[32m                            [ 23%]\u001b[0m\n",
      "test_02_investment.py::test_calc_investment[masiosare-elextra\\xf1oenemigo-data0] \u001b[32mPASSED\u001b[0m\u001b[32m [ 26%]\u001b[0m\n",
      "test_02_investment.py::test_calc_investment[masiosare-elextra\\xf1oenemigo-data1] \u001b[32mPASSED\u001b[0m\u001b[32m [ 29%]\u001b[0m\n",
      "test_02_investment.py::test_calc_investment[masiosare-elextra\\xf1oenemigo-data2] \u001b[32mPASSED\u001b[0m\u001b[32m [ 32%]\u001b[0m\n",
      "test_02_investment.py::test_calc_investment[masiosare-elextra\\xf1oenemigo-data3] \u001b[32mPASSED\u001b[0m\u001b[32m [ 35%]\u001b[0m\n",
      "test_02_investment.py::test_calc_investment[None-None-data4] \u001b[32mPASSED\u001b[0m\u001b[32m      [ 38%]\u001b[0m\n",
      "test_02_investment.py::test_create_investment[masiosare-elextra\\xf1oenemigo-data0] \u001b[32mPASSED\u001b[0m\u001b[32m [ 41%]\u001b[0m\n",
      "test_02_investment.py::test_create_investment[masiosare-elextra\\xf1oenemigo-data1] \u001b[32mPASSED\u001b[0m\u001b[32m [ 44%]\u001b[0m\n",
      "test_02_investment.py::test_create_investment[masiosare-elextra\\xf1oenemigo-data2] \u001b[32mPASSED\u001b[0m\u001b[32m [ 47%]\u001b[0m\n",
      "test_02_investment.py::test_create_investment[masiosare-elextra\\xf1oenemigo-data3] \u001b[32mPASSED\u001b[0m\u001b[32m [ 50%]\u001b[0m\n",
      "test_02_investment.py::test_create_investment[None-None-data4] \u001b[32mPASSED\u001b[0m\u001b[32m    [ 52%]\u001b[0m\n",
      "test_02_investment.py::test_get_investment[masiosare-elextra\\xf1oenemigo-False] \u001b[32mPASSED\u001b[0m\u001b[32m [ 55%]\u001b[0m\n",
      "test_02_investment.py::test_get_investment[masiosare-elextra\\xf1oenemigo-True] \u001b[32mPASSED\u001b[0m\u001b[32m [ 58%]\u001b[0m\n",
      "test_02_investment.py::test_get_investment[--False] \u001b[32mPASSED\u001b[0m\u001b[32m               [ 61%]\u001b[0m\n",
      "test_02_investment.py::test_get_investment[None-None-False] \u001b[32mPASSED\u001b[0m\u001b[32m       [ 64%]\u001b[0m\n",
      "test_02_investment.py::test_update_investment[masiosare-elextra\\xf1oenemigo-False0] \u001b[32mPASSED\u001b[0m\u001b[32m [ 67%]\u001b[0m\n",
      "test_02_investment.py::test_update_investment[masiosare-elextra\\xf1oenemigo-True] \u001b[32mPASSED\u001b[0m\u001b[32m [ 70%]\u001b[0m\n",
      "test_02_investment.py::test_update_investment[masiosare-elextra\\xf1oenemigo-False1] \u001b[32mPASSED\u001b[0m\u001b[32m [ 73%]\u001b[0m\n",
      "test_02_investment.py::test_update_investment[--False] \u001b[32mPASSED\u001b[0m\u001b[32m            [ 76%]\u001b[0m\n",
      "test_02_investment.py::test_update_investment[None-None-False] \u001b[32mPASSED\u001b[0m\u001b[32m    [ 79%]\u001b[0m\n",
      "test_02_investment.py::test_delete_investment[masiosare-elextra\\xf1oenemigo-False0] \u001b[32mPASSED\u001b[0m\u001b[32m [ 82%]\u001b[0m\n",
      "test_02_investment.py::test_delete_investment[masiosare-elextra\\xf1oenemigo-True] \u001b[32mPASSED\u001b[0m\u001b[32m [ 85%]\u001b[0m\n",
      "test_02_investment.py::test_delete_investment[masiosare-elextra\\xf1oenemigo-False1] \u001b[32mPASSED\u001b[0m\u001b[32m [ 88%]\u001b[0m\n",
      "test_02_investment.py::test_delete_investment[--False] \u001b[32mPASSED\u001b[0m\u001b[32m            [ 91%]\u001b[0m\n",
      "test_02_investment.py::test_delete_investment[None-None-False] \u001b[32mPASSED\u001b[0m\u001b[32m    [ 94%]\u001b[0m\n",
      "test_03_user.py::test_delete_user[masiosare-elextra\\xf1oenemigo] \u001b[32mPASSED\u001b[0m\u001b[32m  [ 97%]\u001b[0m\n",
      "test_03_user.py::test_delete_user[None-None] \u001b[32mPASSED\u001b[0m\u001b[32m                      [100%]\u001b[0m\n",
      "\n",
      "\u001b[32m============================= \u001b[32m\u001b[1m34 passed\u001b[0m\u001b[32m in 35.15s\u001b[0m\u001b[32m ==============================\u001b[0m\n"
     ]
    }
   ],
   "source": [
    "! pytest -vv"
   ]
  }
 ],
 "metadata": {
  "kernelspec": {
   "display_name": "back_end",
   "language": "python",
   "name": "python3"
  },
  "language_info": {
   "codemirror_mode": {
    "name": "ipython",
    "version": 3
   },
   "file_extension": ".py",
   "mimetype": "text/x-python",
   "name": "python",
   "nbconvert_exporter": "python",
   "pygments_lexer": "ipython3",
   "version": "3.10.14"
  }
 },
 "nbformat": 4,
 "nbformat_minor": 2
}
